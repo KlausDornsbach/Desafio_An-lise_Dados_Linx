{
 "cells": [
  {
   "cell_type": "markdown",
   "metadata": {},
   "source": [
    "# Desafio para estágio em Análise de Dados na Linx\n",
    "Para a realização do desafio primeiramente foi importada a biblioteca pandas, baixados os arquivos disponibilizados e feita a leitura dos json's."
   ]
  },
  {
   "cell_type": "code",
   "execution_count": 95,
   "metadata": {},
   "outputs": [],
   "source": [
    "# usando biblioteca pandas\n",
    "\n",
    "import pandas as pd\n",
    "import numpy as np\n",
    "\n",
    "# data frames:\n",
    "frame_off_sales = pd.read_json('offline_sales.json', lines = True)\n",
    "frame_on_orders = pd.read_json('online_orders.json', lines = True)\n",
    "frame_on_pageviews = pd.read_json('online_pageviews.json', lines = True)"
   ]
  },
  {
   "cell_type": "markdown",
   "metadata": {},
   "source": [
    "## 1. Qual foi o faturamento total no período?"
   ]
  },
  {
   "cell_type": "code",
   "execution_count": 107,
   "metadata": {},
   "outputs": [
    {
     "name": "stdout",
     "output_type": "stream",
     "text": [
      "faturamento total: 19552328.32\n"
     ]
    }
   ],
   "source": [
    "total = 0\n",
    "tot_compras = 0\n",
    "# offline sales\n",
    "for i in range(len(frame_off_sales['price'])):\n",
    "    total += frame_off_sales['price'][i] * frame_off_sales['quantity'][i]\n",
    "    tot_compras += 1\n",
    "\n",
    "#print(total/tot_compras)\n",
    "# online orders\n",
    "for i in range(len(frame_on_orders['price'])):\n",
    "    total += frame_on_orders['price'][i] * frame_on_orders['quantity'][i]\n",
    "    tot_compras += 1\n",
    "\n",
    "print(\"faturamento total: %.2f\" % total)\n",
    "#frame_on_orders.describe()\n",
    "#frame_off_sales.describe()"
   ]
  },
  {
   "cell_type": "markdown",
   "metadata": {},
   "source": [
    "### 1. Resposta\n",
    "levando em conta o faturamento através de vendas offline e requisições online, o faturamento total do período foi 13.903.005,31 R$."
   ]
  },
  {
   "cell_type": "markdown",
   "metadata": {},
   "source": [
    "## 2. Qual o produto mais comprado online?"
   ]
  },
  {
   "cell_type": "code",
   "execution_count": 105,
   "metadata": {},
   "outputs": [
    {
     "name": "stdout",
     "output_type": "stream",
     "text": [
      "id do produto mais vendido online: 626664333563363\n"
     ]
    }
   ],
   "source": [
    "prod_id = 0\n",
    "total_compras = 0\n",
    "hmap = {}\n",
    "\n",
    "for i in range(len(frame_on_orders['date'])):\n",
    "    if frame_on_orders['on_product_id'][i] not in hmap:\n",
    "        hmap[frame_on_orders['on_product_id'][i]] = 0\n",
    "    for j in range(frame_on_orders['quantity'][i]):\n",
    "        aux = hmap[frame_on_orders['on_product_id'][i]]\n",
    "        hmap[frame_on_orders['on_product_id'][i]] = aux + 1\n",
    "\n",
    "for i, j in hmap.items():\n",
    "    if j > total_compras:\n",
    "        prod_id = i\n",
    "        total_compras = j\n",
    "\n",
    "print(\"id do produto mais vendido online: %d\" % prod_id)"
   ]
  },
  {
   "cell_type": "markdown",
   "metadata": {},
   "source": [
    "### 2. Resposta\n",
    "O id do produto mais comprado online é 626664333563363"
   ]
  },
  {
   "cell_type": "markdown",
   "metadata": {},
   "source": [
    "## 3. Cariocas gostam de comprar no fim de semana?\n",
    "Para responder essa pergunta, é necessario comparar a quantidade de vendas no final de semana com os demais dias, para tal será somente avaliado o volume de vendas offline."
   ]
  },
  {
   "cell_type": "code",
   "execution_count": 65,
   "metadata": {},
   "outputs": [
    {
     "name": "stdout",
     "output_type": "stream",
     "text": [
      "faturamento de seg: 542478.08, média de faturamento neste dia da semana: 135619.52\n",
      "faturamento de ter: 835704.12, média de faturamento neste dia da semana: 208926.03\n",
      "faturamento de qua: 984666.13, média de faturamento neste dia da semana: 196933.23\n",
      "faturamento de qui: 1321095.48, média de faturamento neste dia da semana: 264219.10\n",
      "faturamento de sex: 1465987.11, média de faturamento neste dia da semana: 293197.42\n",
      "faturamento de sab: 955910.58, média de faturamento neste dia da semana: 238977.64\n",
      "faturamento de dom: 151577.00, média de faturamento neste dia da semana: 37894.25\n",
      "média de faturamento diário: 201852.21\n"
     ]
    }
   ],
   "source": [
    "# total de produtos vendidos e faturamento no RJ\n",
    "\n",
    "faturamento = [0, 0, 0, 0, 0, 0, 0]\n",
    "vendas = [0, 0, 0, 0, 0, 0, 0]\n",
    "fat_dias = [0, 0, 0, 0, 0, 0, 0, 0, 0, 0, 0, 0, 0, 0, 0, 0, 0, 0, 0, 0, 0, 0, 0, 0, 0, 0, 0, 0, 0, 0, 0]\n",
    "dias = ['seg', 'ter', 'qua', 'qui', 'sex', 'sab', 'dom']\n",
    "\n",
    "for i in range(len(frame_off_sales['date'])):\n",
    "    if frame_off_sales['state'][i] == 'RJ':\n",
    "        dia = frame_off_sales['date'][i].day\n",
    "        fat_dias[dia - 1] += frame_off_sales['quantity'][i] * frame_off_sales['price'][i]\n",
    "        if dia % 7 == 6:#segunda\n",
    "            faturamento[0] += frame_off_sales['quantity'][i] * frame_off_sales['price'][i]\n",
    "            vendas[0] += frame_off_sales['quantity'][i]\n",
    "        if dia % 7 == 0:#terça\n",
    "            faturamento[1] += frame_off_sales['quantity'][i] * frame_off_sales['price'][i]\n",
    "            vendas[1] += frame_off_sales['quantity'][i]\n",
    "        if dia % 7 == 1:#quarta\n",
    "            faturamento[2] += frame_off_sales['quantity'][i] * frame_off_sales['price'][i]\n",
    "            vendas[2] += frame_off_sales['quantity'][i]\n",
    "        if dia % 7 == 2:\n",
    "            faturamento[3] += frame_off_sales['quantity'][i] * frame_off_sales['price'][i]\n",
    "            vendas[3] += frame_off_sales['quantity'][i]\n",
    "        if dia % 7 == 3:\n",
    "            faturamento[4] += frame_off_sales['quantity'][i] * frame_off_sales['price'][i]\n",
    "            vendas[4] += frame_off_sales['quantity'][i]\n",
    "        if dia % 7 == 4:\n",
    "            faturamento[5] += frame_off_sales['quantity'][i] * frame_off_sales['price'][i]\n",
    "            vendas[5] += frame_off_sales['quantity'][i]\n",
    "        if dia % 7 == 5:\n",
    "            faturamento[6] += frame_off_sales['quantity'][i] * frame_off_sales['price'][i]\n",
    "            vendas[6] += frame_off_sales['quantity'][i]\n",
    "\n",
    "tot = 0\n",
    "for i in range(7):\n",
    "    tot += faturamento[i]\n",
    "    if i > 1 and i < 5:\n",
    "        med = faturamento[i] / 5\n",
    "    else:\n",
    "        med = faturamento[i] / 4\n",
    "    print(\"faturamento de %s: %.2f, média de faturamento neste dia da semana: %.2f\" % (dias[i], faturamento[i], med))\n",
    "    \n",
    "print(\"média de faturamento diário: %.2f\" % (tot/31))\n",
    "# total de produtos vendidos no fim de semana no RJ\n",
    "\n",
    "# total de produtos vendidos em outros estados\n",
    "\n",
    "# total de produtos vendidos durante o fim de semana em outros estados"
   ]
  },
  {
   "cell_type": "code",
   "execution_count": 62,
   "metadata": {},
   "outputs": [
    {
     "data": {
      "text/plain": [
       "<BarContainer object of 31 artists>"
      ]
     },
     "execution_count": 62,
     "metadata": {},
     "output_type": "execute_result"
    },
    {
     "data": {
      "image/png": "[encoded data removed]",
      "text/plain": [
       "<Figure size 432x288 with 1 Axes>"
      ]
     },
     "metadata": {
      "needs_background": "light"
     },
     "output_type": "display_data"
    }
   ],
   "source": [
    "# gráfico para visualizar consumo por dia da semana\n",
    "\n",
    "%matplotlib inline\n",
    "import numpy as np\n",
    "import matplotlib.pyplot as plt\n",
    "x = np.linspace(1, 31, 31)\n",
    "dias_p = ['q', 'q', 's', 's', 'd', 's', 't', 'q', 'q', 's', 's', 'd', 's', 't', 'q', 'q', 's', 's', 'd', 's', 't', 'q', 'q', 's', 's', 'd', 's', 't', 'q', 'q', 's', 's']\n",
    "plt.xticks(x, dias_p)\n",
    "plt.bar(x, fat_dias)\n"
   ]
  },
  {
   "cell_type": "markdown",
   "metadata": {},
   "source": [
    "\n",
    "### 3. Resposta\n",
    "Como é possível notar, a partir do gráfico de consumo diário dos cariocas e consumo total no espaço amostral, estes tenderam a consumir mais nos últimos dias da semana (quinta, sexta e sábado, pois ficaram acima da média diária de faturamento), entretanto o nível de consumo foi o menor de todos, em média, no domingo. É possível afirmar que o carioca apresenta um aumento de consumo nos dias finais da semana, e um declínio acentuado no domingo. Este baixo movimento no domingo é esperado em lojas físicas."
   ]
  },
  {
   "cell_type": "markdown",
   "metadata": {},
   "source": [
    "## 4. É comum escolher online e terminar a compra na loja física?\n",
    "Para fazer tal análise, será utilizado o costumer_id do cliente, relacionando uma compra offline ao tal id de um cliente, buscando no arquivo online_pageviews se este consumidor viu um produto online (caso este e tenha realizado uma compra online no mesmo dia, não deverá ser contabilizado na categoria \"escolheu online e terminou compra em loja física\"). Como são muitos dados no arquivo \"online_pageviews.json\" alguns critérios de exclusão devem ser utilizados para melhora de desempenho. No caso em questão, pode-se excluir todas as visitas à página online que não tenham pageType = product e customer_id = null.\n",
    "      "
   ]
  },
  {
   "cell_type": "code",
   "execution_count": 50,
   "metadata": {},
   "outputs": [
    {
     "name": "stderr",
     "output_type": "stream",
     "text": [
      "C:\\Users\\klaus\\Anaconda3\\lib\\site-packages\\ipykernel_launcher.py:11: UserWarning: Boolean Series key will be reindexed to match DataFrame index.\n",
      "  # This is added back by InteractiveShellApp.init_path()\n",
      "C:\\Users\\klaus\\Anaconda3\\lib\\site-packages\\ipykernel_launcher.py:30: UserWarning: Boolean Series key will be reindexed to match DataFrame index.\n"
     ]
    }
   ],
   "source": [
    "# limpando dados.reset_index(drop=True)\n",
    "pageviews_database = frame_on_pageviews[frame_on_pageviews['pageType'] == 'product']\n",
    "pageviews_database = pageviews_database[np.isfinite(pageviews_database['customer_id'])]  # se tem algum NaN exclui\n",
    "pageviews_database.reset_index(drop=True, inplace=True)\n",
    "\n",
    "offsales_database = frame_off_sales[np.isfinite(frame_off_sales['customer_id'])]\n",
    "offsales_database.reset_index(drop = True, inplace=True)\n",
    "pct_offsales_with_customerId = len(offsales_database['date'])/len(frame_off_sales['date']) * 100\n",
    "pct_offsales_with_customerId\n",
    "\n",
    "onorders_database = frame_on_orders[np.isfinite(frame_off_sales['customer_id'])]\n",
    "onorders_database.reset_index(drop = True, inplace=True)\n",
    "#offsales_database\n",
    "\n",
    "# calculo \n",
    "total = 0\n",
    "for i in range(len(offsales_database['date'])):\n",
    "    customer = offsales_database['customer_id'][i]\n",
    "    date = offsales_database['date'][i]\n",
    "    matches = pageviews_database[pageviews_database['customer_id'] == customer]\n",
    "    matches.reset_index(drop = True, inplace=True)\n",
    "    \n",
    "    \n",
    "    #online_matches = onorders_database['date'][onorders_database['customer_id'] == customer]\n",
    "    #online_matches = online_matches[online_matches.day == \n",
    "    #online_matches.reset_index(drop = True, inplace=True)\n",
    "    for j in range(len(matches)):\n",
    "        online_matches = onorders_database[matches['date'][j] == onorders_database['date']]\n",
    "        online_matches.reset_index(drop = True, inplace=True)\n",
    "        online_matches = online_matches[online_matches['customer_id'][j] == onorders_database['customer_id']]\n",
    "        \n",
    "        if not online_matches.empty:\n",
    "            break\n",
    "        if matches['date'][j].day < offsales_database['date'][i].day:\n",
    "            total += offsales_database['quantity'][i]\n",
    "            break\n",
    "    \n",
    "pct_total = total/len(offsales_database['date']) * 100"
   ]
  },
  {
   "cell_type": "code",
   "execution_count": 103,
   "metadata": {},
   "outputs": [
    {
     "name": "stdout",
     "output_type": "stream",
     "text": [
      "porcentagem de compras offline que o cliente possuia client_id: 87.99\n"
     ]
    }
   ],
   "source": [
    "print(\"porcentagem de compras offline que o cliente possuia client_id: %.2f\" % pct_offsales_with_customerId)"
   ]
  },
  {
   "cell_type": "code",
   "execution_count": 104,
   "metadata": {},
   "outputs": [
    {
     "name": "stdout",
     "output_type": "stream",
     "text": [
      "porcentagem de compras físicas realizadas escolhendo online e terminando a compra em loja física: 0.68\n"
     ]
    }
   ],
   "source": [
    "print(\"porcentagem de compras físicas realizadas escolhendo online e terminando a compra em loja física:  %.2f\" % pct_total)"
   ]
  },
  {
   "cell_type": "markdown",
   "metadata": {},
   "source": [
    "### 4. Resposta\n",
    "Utilizando os critérios anteriormente discutidos, e avaliando que aproximadamente 88% dos clientes que compraram offline possuem um client_id (uma quantidade bem expressiva), nota-se que escolher um produto online e terminar a compra em uma loja física não é uma prática tão comum, visto que apenas 175 compras foram realizadas de tal modo, ou 0,7% das vendas físicas totais."
   ]
  },
  {
   "cell_type": "markdown",
   "metadata": {},
   "source": [
    "## 5. O time de marketing desta rede quer fazer uma campanha oferecendo um cupom de 20% nas compras de loja física para quem visitou o site e abandonou um carrinho com produtos. Estime o resultado dessa campanha.\n",
    "Para esta análise, será considerado que um visitante só recebe um cupom de desconto se seu 'visitor_id' está no arquivo online_pageviews.json, o mesmo id de visitante não está no arquivo online_orders.json e este acessou um pageType = 'cart', isto significa que o visitante abandonou um carrinho com itens. Para esta análise, será considerado que para o cliente ter acessado a página do carrinho ele tinha algum produto neste."
   ]
  },
  {
   "cell_type": "code",
   "execution_count": 99,
   "metadata": {},
   "outputs": [
    {
     "name": "stdout",
     "output_type": "stream",
     "text": [
      "total de cupons distribuidos: 7694\n"
     ]
    }
   ],
   "source": [
    "# linmpando dados\n",
    "cart_database = frame_on_pageviews[frame_on_pageviews['pageType'] == 'cart']  # acessos a pagina cart\n",
    "cart_database.reset_index(drop=True, inplace=True)\n",
    "hmap_visitante_compras = {}\n",
    "hmap_visitante_onCart = {}\n",
    "for i in range(len(cart_database['date'])):\n",
    "    if cart_database['visitor_id'][i] not in hmap_visitante_onCart:\n",
    "        hmap_visitante_onCart[cart_database['visitor_id'][i]] = 0\n",
    "    hmap_visitante_onCart[cart_database['visitor_id'][i]] = hmap_visitante_onCart[cart_database['visitor_id'][i]] + 1 \n",
    "    \n",
    "for i in range(len(frame_on_orders['date'])):\n",
    "    hmap_visitante_compras.setdefault(frame_on_orders['visitor_id'][i], []).append(frame_on_orders['order_id'][i])\n",
    "    \n",
    "# agora tenho quantas vezes um visitante esteve no carrinho e quantas vezes um visitante comprou\n",
    "\n",
    "cupons = 0\n",
    "for i, j in hmap_visitante_onCart.items():\n",
    "    if i not in hmap_visitante_compras:\n",
    "        cupons += 1\n",
    "        \n",
    "print(\"total de cupons distribuidos: %s\" % cupons)"
   ]
  },
  {
   "cell_type": "markdown",
   "metadata": {},
   "source": [
    "### 5. Resposta\n",
    "Um número considerável de clientes receberá um cupom, se supormos que 20% das pessoas que receberam um cupom irão numa loja física comprar um produto usando o desconto.\n",
    "\n",
    "$$faturamentoCampanha(x) = valorMedioCompraOffline * 20/100 * x * 80/100$$\n",
    "\n",
    "com x sendo quantidade de pessoas que receberam o cupom, logo 7694, o valor arrecadado é aproximadamente 580.000 R$, contribuindo em aproximadamente 4% das vendas offline.    "
   ]
  },
  {
   "cell_type": "markdown",
   "metadata": {},
   "source": [
    "## 6. Bônus. O que mais de interessante tem nestes dados?\n",
    "### 6.1. Qual é a plataforma mais utilizada nas vendas online e qual é a porcentagem de compra por acesso em cada plataforma?\n",
    "Os acessos online serão simplificados para acessos a paginas relacionadas a produtos.\n"
   ]
  },
  {
   "cell_type": "code",
   "execution_count": 73,
   "metadata": {},
   "outputs": [
    {
     "data": {
      "text/plain": [
       "{'desktop': 565650, 'mobile': 850203}"
      ]
     },
     "execution_count": 73,
     "metadata": {},
     "output_type": "execute_result"
    }
   ],
   "source": [
    "# 6.1\n",
    "dic_plataforma_compras = {'desktop':0, 'mobile':0}\n",
    "dic_plataforma_acessos = {'desktop':0, 'mobile':0}\n",
    "\n",
    "for i in range(len(frame_on_orders['date'])):\n",
    "    if frame_on_orders['deviceType'][i] not in dic_plataforma_compras:\n",
    "        dic_plataforma_compras[frame_on_orders['deviceType'][i]] = 0\n",
    "    dic_plataforma_compras[frame_on_orders['deviceType'][i]] += 1\n",
    "\n",
    "# limpando dados\n",
    "acessos = frame_on_pageviews[frame_on_pageviews['pageType'] == 'product']  # acessos a home\n",
    "acessos.reset_index(drop=True, inplace=True)\n",
    "\n",
    "for i in range(len(acessos['date'])):\n",
    "    dic_plataforma_acessos[acessos['deviceType'][i]] += 1\n",
    "    \n",
    "dic_plataforma_acessos"
   ]
  },
  {
   "cell_type": "code",
   "execution_count": 74,
   "metadata": {},
   "outputs": [
    {
     "data": {
      "text/plain": [
       "{'desktop': 5266, 'mobile': 6971}"
      ]
     },
     "execution_count": 74,
     "metadata": {},
     "output_type": "execute_result"
    }
   ],
   "source": [
    "dic_plataforma_compras # total acessos 1.415.853‬\n",
    "                       # total compras 12.237‬ "
   ]
  },
  {
   "cell_type": "markdown",
   "metadata": {},
   "source": [
    "### 6. Resposta\n",
    "#### 6.1\n",
    "aproximadamente 40% dos acessos a páginas relacionadas a produtos foram em desktop e 43% das vendas online foram representadas por usuários em desktop, isso indica um balanceamento bom entre as plataformas, um desbalanceamento mais elevado poderia ser causado por alguma escolha de design de alguma plataforma inconveniente para o usuário. O leve desbalanceamento pode ser em conta da facilidade de acesso em dispositivos móveis e o usuário só utilizar o desktop para efetivamente realizar compras e não tanto para escolher.\n",
    "por volta de 9,3% dos acessos a produto são convertidos em compra nos desktops, enquanto 8,1% dos acessos em dispositivos móveis são convertidos em compras."
   ]
  }
 ],
 "metadata": {
  "kernelspec": {
   "display_name": "Python 3",
   "language": "python",
   "name": "python3"
  },
  "language_info": {
   "codemirror_mode": {
    "name": "ipython",
    "version": 3
   },
   "file_extension": ".py",
   "mimetype": "text/x-python",
   "name": "python",
   "nbconvert_exporter": "python",
   "pygments_lexer": "ipython3",
   "version": "3.7.4"
  }
 },
 "nbformat": 4,
 "nbformat_minor": 4
}
